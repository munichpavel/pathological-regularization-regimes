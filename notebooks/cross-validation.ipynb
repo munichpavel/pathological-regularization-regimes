{
 "cells": [
  {
   "cell_type": "code",
   "execution_count": 1,
   "id": "f309f158-f891-423a-9fee-59acf6e607bd",
   "metadata": {},
   "outputs": [],
   "source": [
    "import os\n",
    "from pathlib import Path\n",
    "import json\n",
    "\n",
    "import pandas as pd\n",
    "from sklearn.linear_model import LogisticRegressionCV, LogisticRegression\n",
    "import numpy as np\n",
    "\n",
    "from prr.utils import (\n",
    "    convert_to_categorical,\n",
    "    make_feature_combination_array,\n",
    "    make_feature_combination_score_array\n",
    ")\n",
    "from prr.trends import make_trend_reports, make_data_trend_reports"
   ]
  },
  {
   "cell_type": "markdown",
   "id": "6c7af7bf-9be0-43a2-b723-97963c3707df",
   "metadata": {},
   "source": [
    "## Read in Simpson dataset used for plot of trend vs regularization parameter"
   ]
  },
  {
   "cell_type": "code",
   "execution_count": 2,
   "id": "142da3ce-17d2-4e8a-9bd5-5b25684421db",
   "metadata": {},
   "outputs": [
    {
     "name": "stdout",
     "output_type": "stream",
     "text": [
      "Data trend report:\n"
     ]
    },
    {
     "name": "stderr",
     "output_type": "stream",
     "text": [
      "/Users/paullarsen/work/projects/pathological-regularization-regimes/.venv/lib/python3.11/site-packages/fake_data_for_learning/contingency_tables.py:41: FutureWarning: The default of observed=False is deprecated and will be changed to True in a future version of pandas. Pass observed=False to retain current behavior or observed=True to adopt the future default and silence this warning.\n",
      "  counts = data.groupby(data.columns.tolist(), as_index=True).size()\n"
     ]
    },
    {
     "data": {
      "text/plain": [
       "{'n_samples': 600,\n",
       " 'contingency_table': {'dims': ('default', 'gender', 'occupation'),\n",
       "  'attrs': {},\n",
       "  'data': [[[93.0, 21.0], [0.0, 123.0]], [[313.0, 1.0], [2.0, 47.0]]],\n",
       "  'coords': {'default': {'dims': ('default',), 'attrs': {}, 'data': [0, 1]},\n",
       "   'gender': {'dims': ('gender',), 'attrs': {}, 'data': [0, 1]},\n",
       "   'occupation': {'dims': ('occupation',), 'attrs': {}, 'data': [0, 1]}},\n",
       "  'name': None},\n",
       " 'total_population': {'gender_trend': 0.4487611388828516},\n",
       " 'sub_populations': [{'population_group': 'occupation',\n",
       "   'population_value': 0,\n",
       "   'trend': {'gender_trend': -0.229064039408867}},\n",
       "  {'population_group': 'occupation',\n",
       "   'population_value': 1,\n",
       "   'trend': {'gender_trend': -0.23101604278074866}}]}"
      ]
     },
     "execution_count": 2,
     "metadata": {},
     "output_type": "execute_result"
    }
   ],
   "source": [
    "data_path = Path(os.environ['REPO_ROOT']) / 'data/pathological-default-for-x-validation.csv'\n",
    "\n",
    "df = pd.read_csv(data_path)\n",
    "\n",
    "# Convert datatypes to categorical\n",
    "label_mapping_values = dict(gender=[0, 1], occupation=[0, 1])\n",
    "data_categories = label_mapping_values.copy()\n",
    "data_categories['default'] = [0, 1]\n",
    "df = convert_to_categorical(df, data_categories)\n",
    "\n",
    "# Look at data trend report\n",
    "print('Data trend report:')\n",
    "make_data_trend_reports(\n",
    "    df, \n",
    "    target_field_name='default', \n",
    "    target_field_value=1, \n",
    "    non_exposure_field_name='occupation'\n",
    ")"
   ]
  },
  {
   "cell_type": "markdown",
   "id": "7e6521f1-5c4f-4357-a874-0b3b0c65baf4",
   "metadata": {},
   "source": [
    "## Fit logistic regression with intercept using cross-validation\n",
    "\n",
    "taking default settings unless we have a good reason not to, e.g. `solver='newton-cholesky'` rather than default `solver='lbfgs'`."
   ]
  },
  {
   "cell_type": "code",
   "execution_count": 9,
   "id": "ab9d34a8-95e8-44c3-b918-2037e79eb905",
   "metadata": {},
   "outputs": [
    {
     "name": "stdout",
     "output_type": "stream",
     "text": [
      "Fix model with cross-validation\n",
      "Cross-validation optimized choice of C: 0.3593813663804626\n"
     ]
    },
    {
     "name": "stderr",
     "output_type": "stream",
     "text": [
      "/Users/paullarsen/work/projects/pathological-regularization-regimes/.venv/lib/python3.11/site-packages/sklearn/base.py:493: UserWarning: X does not have valid feature names, but LogisticRegressionCV was fitted with feature names\n",
      "  warnings.warn(\n"
     ]
    },
    {
     "data": {
      "text/plain": [
       "[{'population_group': 'occupation',\n",
       "  'population_value': 0,\n",
       "  'trend': {'gender_trend': 0.003078681346700307}},\n",
       " {'population_group': 'occupation',\n",
       "  'population_value': 1,\n",
       "  'trend': {'gender_trend': 0.0033781725168935406}}]"
      ]
     },
     "execution_count": 9,
     "metadata": {},
     "output_type": "execute_result"
    }
   ],
   "source": [
    "X = df[['gender', 'occupation']]\n",
    "y = df['default']\n",
    "print(f'Fix model with cross-validation')\n",
    "clf = LogisticRegressionCV(cv=3, random_state=42, fit_intercept=True, penalty='l2', solver='newton-cholesky').fit(X, y)\n",
    "print(f'Cross-validation optimized choice of C: {clf.C_[0]}')\n",
    "\n",
    "feature_combination_array = make_feature_combination_array(\n",
    "    label_mapping_values=dict(label_mapping_values)\n",
    ")\n",
    "scores = clf.predict_proba(feature_combination_array)\n",
    "prob_default = scores[:, [1]]  # Class 1 is default, class 0 no-default\n",
    "\n",
    "feature_fields = list(label_mapping_values.keys())\n",
    "feature_combination_scores = pd.DataFrame(\n",
    "    np.concatenate([feature_combination_array, prob_default], axis=1),\n",
    "    columns=feature_fields + ['default_score']\n",
    ")\n",
    "for feature in feature_fields:\n",
    "    feature_combination_scores[feature] = feature_combination_scores[feature].astype(int)\n",
    "\n",
    "# Convert flat probabilities to xarray for more robust accessing\n",
    "feature_combination_contingency = make_feature_combination_score_array(\n",
    "    feature_combinations=feature_combination_scores[feature_fields],\n",
    "    scores=feature_combination_scores['default_score']\n",
    ")\n",
    "\n",
    "sub_population_trend_reports = make_trend_reports(\n",
    "    feature_combination_contingency, population_subgroup='occupation'\n",
    ")\n",
    "sub_population_trend_reports"
   ]
  },
  {
   "cell_type": "markdown",
   "id": "45bd8652-f243-49ee-8bf2-e3fa2cc7e699",
   "metadata": {},
   "source": [
    "## Calculate \"true\" trends by fitting with a large inverse regularization parameter"
   ]
  },
  {
   "cell_type": "code",
   "execution_count": 4,
   "id": "2dd1b5fc-5bbf-46d5-b7ee-2575e9bd9c4c",
   "metadata": {},
   "outputs": [
    {
     "name": "stderr",
     "output_type": "stream",
     "text": [
      "/Users/paullarsen/work/projects/pathological-regularization-regimes/.venv/lib/python3.11/site-packages/sklearn/base.py:493: UserWarning: X does not have valid feature names, but LogisticRegression was fitted with feature names\n",
      "  warnings.warn(\n"
     ]
    },
    {
     "data": {
      "text/plain": [
       "[{'population_group': 'occupation',\n",
       "  'population_value': 0,\n",
       "  'trend': {'gender_trend': -0.19555714999981944}},\n",
       " {'population_group': 'occupation',\n",
       "  'population_value': 1,\n",
       "  'trend': {'gender_trend': -0.2342684634471907}}]"
      ]
     },
     "execution_count": 4,
     "metadata": {},
     "output_type": "execute_result"
    }
   ],
   "source": [
    "clf_0 = LogisticRegression(fit_intercept=True, penalty='l2', solver='newton-cholesky', C=1e9)\n",
    "clf_0.fit(X, y)\n",
    "\n",
    "feature_combination_array = make_feature_combination_array(\n",
    "    label_mapping_values=dict(label_mapping_values)\n",
    ")\n",
    "scores = clf_0.predict_proba(feature_combination_array)\n",
    "prob_default = scores[:, [1]]  # Class 1 is default, class 0 no-default\n",
    "\n",
    "feature_fields = list(label_mapping_values.keys())\n",
    "feature_combination_scores = pd.DataFrame(\n",
    "    np.concatenate([feature_combination_array, prob_default], axis=1),\n",
    "    columns=feature_fields + ['default_score']\n",
    ")\n",
    "for feature in feature_fields:\n",
    "    feature_combination_scores[feature] = feature_combination_scores[feature].astype(int)\n",
    "\n",
    "# Convert flat probabilities to xarray for more robust accessing\n",
    "feature_combination_contingency = make_feature_combination_score_array(\n",
    "    feature_combinations=feature_combination_scores[feature_fields],\n",
    "    scores=feature_combination_scores['default_score']\n",
    ")\n",
    "\n",
    "sub_population_trend_reports = make_trend_reports(\n",
    "    feature_combination_contingency, population_subgroup='occupation'\n",
    ")\n",
    "sub_population_trend_reports"
   ]
  },
  {
   "cell_type": "markdown",
   "id": "b76fc371-19a2-4fd7-aa2a-ac24d96ee45d",
   "metadata": {},
   "source": [
    "### Fit again, but using `class_weight='balanced'`\n",
    "\n",
    "to adjust for unbalanced classes in the dataset."
   ]
  },
  {
   "cell_type": "code",
   "execution_count": 5,
   "id": "6e0c3563-fd1a-4a29-bca3-f02485ac30cc",
   "metadata": {},
   "outputs": [
    {
     "name": "stdout",
     "output_type": "stream",
     "text": [
      "Fix model with cross-validation\n",
      "Cross-validation optimized choice of C: 0.046415888336127774\n"
     ]
    },
    {
     "name": "stderr",
     "output_type": "stream",
     "text": [
      "/Users/paullarsen/work/projects/pathological-regularization-regimes/.venv/lib/python3.11/site-packages/sklearn/base.py:493: UserWarning: X does not have valid feature names, but LogisticRegressionCV was fitted with feature names\n",
      "  warnings.warn(\n"
     ]
    },
    {
     "data": {
      "text/plain": [
       "[{'population_group': 'occupation',\n",
       "  'population_value': 0,\n",
       "  'trend': {'gender_trend': 0.13173856642063608}},\n",
       " {'population_group': 'occupation',\n",
       "  'population_value': 1,\n",
       "  'trend': {'gender_trend': 0.11679702737617637}}]"
      ]
     },
     "execution_count": 5,
     "metadata": {},
     "output_type": "execute_result"
    }
   ],
   "source": [
    "print(f'Fix model with cross-validation')\n",
    "clf_balanced = LogisticRegressionCV(\n",
    "    cv=5, random_state=42, fit_intercept=True, penalty='l2', solver='newton-cholesky',\n",
    "    class_weight='balanced'\n",
    ").fit(X, y)\n",
    "print(f'Cross-validation optimized choice of C: {clf_balanced.C_[0]}')\n",
    "\n",
    "\n",
    "scores = clf_balanced.predict_proba(feature_combination_array)\n",
    "prob_default = scores[:, [1]]  # Class 1 is default, class 0 no-default\n",
    "\n",
    "feature_fields = list(label_mapping_values.keys())\n",
    "feature_combination_scores = pd.DataFrame(\n",
    "    np.concatenate([feature_combination_array, prob_default], axis=1),\n",
    "    columns=feature_fields + ['default_score']\n",
    ")\n",
    "for feature in feature_fields:\n",
    "    feature_combination_scores[feature] = feature_combination_scores[feature].astype(int)\n",
    "\n",
    "# Convert flat probabilities to xarray for more robust accessing\n",
    "feature_combination_contingency = make_feature_combination_score_array(\n",
    "    feature_combinations=feature_combination_scores[feature_fields],\n",
    "    scores=feature_combination_scores['default_score']\n",
    ")\n",
    "\n",
    "sub_population_trend_reports = make_trend_reports(\n",
    "    feature_combination_contingency, population_subgroup='occupation'\n",
    ")\n",
    "sub_population_trend_reports"
   ]
  }
 ],
 "metadata": {
  "kernelspec": {
   "display_name": "Python 3 (ipykernel)",
   "language": "python",
   "name": "python3"
  },
  "language_info": {
   "codemirror_mode": {
    "name": "ipython",
    "version": 3
   },
   "file_extension": ".py",
   "mimetype": "text/x-python",
   "name": "python",
   "nbconvert_exporter": "python",
   "pygments_lexer": "ipython3",
   "version": "3.11.0"
  }
 },
 "nbformat": 4,
 "nbformat_minor": 5
}
